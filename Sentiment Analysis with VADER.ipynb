{
 "cells": [
  {
   "cell_type": "code",
   "execution_count": 1,
   "id": "2baa6619",
   "metadata": {},
   "outputs": [],
   "source": [
    "import pandas as pd\n",
    "import numpy as np\n",
    "import nltk\n",
    "import matplotlib.pyplot as plt"
   ]
  },
  {
   "cell_type": "code",
   "execution_count": 2,
   "id": "cc0dcd0c",
   "metadata": {},
   "outputs": [],
   "source": [
    "from  nltk.sentiment.vader  import SentimentIntensityAnalyzer"
   ]
  },
  {
   "cell_type": "code",
   "execution_count": 3,
   "id": "e1135ed6",
   "metadata": {},
   "outputs": [
    {
     "name": "stderr",
     "output_type": "stream",
     "text": [
      "[nltk_data] Downloading package vader_lexicon to C:\\Users\\ASHISH\n",
      "[nltk_data]     SHINDE\\AppData\\Roaming\\nltk_data...\n"
     ]
    },
    {
     "data": {
      "text/plain": [
       "True"
      ]
     },
     "execution_count": 3,
     "metadata": {},
     "output_type": "execute_result"
    }
   ],
   "source": [
    "#nltk.download('vader_lexicon')"
   ]
  },
  {
   "cell_type": "code",
   "execution_count": 4,
   "id": "44f7e933",
   "metadata": {},
   "outputs": [],
   "source": [
    "sent =  SentimentIntensityAnalyzer()    # Creating Object/Instance"
   ]
  },
  {
   "cell_type": "code",
   "execution_count": null,
   "id": "0fa36376",
   "metadata": {},
   "outputs": [],
   "source": []
  },
  {
   "cell_type": "code",
   "execution_count": 10,
   "id": "34c88bdc",
   "metadata": {},
   "outputs": [
    {
     "data": {
      "text/plain": [
       "(10000, 2)"
      ]
     },
     "execution_count": 10,
     "metadata": {},
     "output_type": "execute_result"
    }
   ],
   "source": [
    "review  = pd.read_csv(r\"E:\\PGA $$ 23 $$\\Deep Learning\\amazonreviews.tsv\",sep = '\\t')\n",
    "review.shape"
   ]
  },
  {
   "cell_type": "code",
   "execution_count": 11,
   "id": "07337905",
   "metadata": {},
   "outputs": [
    {
     "data": {
      "text/html": [
       "<div>\n",
       "<style scoped>\n",
       "    .dataframe tbody tr th:only-of-type {\n",
       "        vertical-align: middle;\n",
       "    }\n",
       "\n",
       "    .dataframe tbody tr th {\n",
       "        vertical-align: top;\n",
       "    }\n",
       "\n",
       "    .dataframe thead th {\n",
       "        text-align: right;\n",
       "    }\n",
       "</style>\n",
       "<table border=\"1\" class=\"dataframe\">\n",
       "  <thead>\n",
       "    <tr style=\"text-align: right;\">\n",
       "      <th></th>\n",
       "      <th>label</th>\n",
       "      <th>review</th>\n",
       "    </tr>\n",
       "  </thead>\n",
       "  <tbody>\n",
       "    <tr>\n",
       "      <th>0</th>\n",
       "      <td>pos</td>\n",
       "      <td>Stuning even for the non-gamer: This sound tra...</td>\n",
       "    </tr>\n",
       "    <tr>\n",
       "      <th>1</th>\n",
       "      <td>pos</td>\n",
       "      <td>The best soundtrack ever to anything.: I'm rea...</td>\n",
       "    </tr>\n",
       "    <tr>\n",
       "      <th>2</th>\n",
       "      <td>pos</td>\n",
       "      <td>Amazing!: This soundtrack is my favorite music...</td>\n",
       "    </tr>\n",
       "    <tr>\n",
       "      <th>3</th>\n",
       "      <td>pos</td>\n",
       "      <td>Excellent Soundtrack: I truly like this soundt...</td>\n",
       "    </tr>\n",
       "    <tr>\n",
       "      <th>4</th>\n",
       "      <td>pos</td>\n",
       "      <td>Remember, Pull Your Jaw Off The Floor After He...</td>\n",
       "    </tr>\n",
       "  </tbody>\n",
       "</table>\n",
       "</div>"
      ],
      "text/plain": [
       "  label                                             review\n",
       "0   pos  Stuning even for the non-gamer: This sound tra...\n",
       "1   pos  The best soundtrack ever to anything.: I'm rea...\n",
       "2   pos  Amazing!: This soundtrack is my favorite music...\n",
       "3   pos  Excellent Soundtrack: I truly like this soundt...\n",
       "4   pos  Remember, Pull Your Jaw Off The Floor After He..."
      ]
     },
     "execution_count": 11,
     "metadata": {},
     "output_type": "execute_result"
    }
   ],
   "source": [
    "review.head()"
   ]
  },
  {
   "cell_type": "code",
   "execution_count": 12,
   "id": "7432d973",
   "metadata": {},
   "outputs": [
    {
     "data": {
      "text/plain": [
       "'Stuning even for the non-gamer: This sound track was beautiful! It paints the senery in your mind so well I would recomend it even to people who hate vid. game music! I have played the game Chrono Cross but out of all of the games I have ever played it has the best music! It backs away from crude keyboarding and takes a fresher step with grate guitars and soulful orchestras. It would impress anyone who cares to listen! ^_^'"
      ]
     },
     "execution_count": 12,
     "metadata": {},
     "output_type": "execute_result"
    }
   ],
   "source": [
    "review.iloc[0][1]   # 1st record of 2nd column"
   ]
  },
  {
   "cell_type": "code",
   "execution_count": 14,
   "id": "e9a78672",
   "metadata": {},
   "outputs": [
    {
     "data": {
      "text/plain": [
       "{'neg': 0.088, 'neu': 0.669, 'pos': 0.243, 'compound': 0.9454}"
      ]
     },
     "execution_count": 14,
     "metadata": {},
     "output_type": "execute_result"
    }
   ],
   "source": [
    "abc = sent.polarity_scores(review.iloc[0][1])\n",
    "abc"
   ]
  },
  {
   "cell_type": "code",
   "execution_count": 16,
   "id": "c704e600",
   "metadata": {},
   "outputs": [
    {
     "data": {
      "text/plain": [
       "dict"
      ]
     },
     "execution_count": 16,
     "metadata": {},
     "output_type": "execute_result"
    }
   ],
   "source": [
    "type(abc)"
   ]
  },
  {
   "cell_type": "code",
   "execution_count": 18,
   "id": "56a22219",
   "metadata": {},
   "outputs": [
    {
     "data": {
      "text/plain": [
       "0.9454"
      ]
     },
     "execution_count": 18,
     "metadata": {},
     "output_type": "execute_result"
    }
   ],
   "source": [
    "abc['compound']"
   ]
  },
  {
   "cell_type": "code",
   "execution_count": null,
   "id": "52313888",
   "metadata": {},
   "outputs": [],
   "source": []
  },
  {
   "cell_type": "code",
   "execution_count": 19,
   "id": "0b585d18",
   "metadata": {},
   "outputs": [],
   "source": [
    "score_com = []\n",
    "score_pos= []\n",
    "score_neg = []\n",
    "for i in range(0,review.shape[0]):\n",
    "    score = sent.polarity_scores(review.iloc[i][1])\n",
    "    score1 = score['compound']\n",
    "    score_com.append(score1)\n",
    "    #below 2 lines to extract positive sentiment\n",
    "    score2 = score['pos']\n",
    "    score_pos.append(score2)\n",
    "    #below 2 lines to extract Negative sentiment\n",
    "    score3 = score['neg']\n",
    "    score_neg.append(score3)"
   ]
  },
  {
   "cell_type": "code",
   "execution_count": 22,
   "id": "94fcd9b5",
   "metadata": {},
   "outputs": [],
   "source": [
    "review[\"Comp-Score\"] = score_com   # Adding New Cloumn to the DataFrame\n",
    "review[\"Pos-Score\"] = score_pos\n",
    "review[\"Neg-Score\"] = score_neg"
   ]
  },
  {
   "cell_type": "code",
   "execution_count": 23,
   "id": "6f470501",
   "metadata": {},
   "outputs": [
    {
     "data": {
      "text/plain": [
       "(10000, 5)"
      ]
     },
     "execution_count": 23,
     "metadata": {},
     "output_type": "execute_result"
    }
   ],
   "source": [
    "review.shape"
   ]
  },
  {
   "cell_type": "code",
   "execution_count": 24,
   "id": "3a00e0a6",
   "metadata": {},
   "outputs": [
    {
     "data": {
      "text/html": [
       "<div>\n",
       "<style scoped>\n",
       "    .dataframe tbody tr th:only-of-type {\n",
       "        vertical-align: middle;\n",
       "    }\n",
       "\n",
       "    .dataframe tbody tr th {\n",
       "        vertical-align: top;\n",
       "    }\n",
       "\n",
       "    .dataframe thead th {\n",
       "        text-align: right;\n",
       "    }\n",
       "</style>\n",
       "<table border=\"1\" class=\"dataframe\">\n",
       "  <thead>\n",
       "    <tr style=\"text-align: right;\">\n",
       "      <th></th>\n",
       "      <th>label</th>\n",
       "      <th>review</th>\n",
       "      <th>Comp-Score</th>\n",
       "      <th>Pos-Score</th>\n",
       "      <th>Neg-Score</th>\n",
       "    </tr>\n",
       "  </thead>\n",
       "  <tbody>\n",
       "    <tr>\n",
       "      <th>0</th>\n",
       "      <td>pos</td>\n",
       "      <td>Stuning even for the non-gamer: This sound tra...</td>\n",
       "      <td>0.9454</td>\n",
       "      <td>0.243</td>\n",
       "      <td>0.088</td>\n",
       "    </tr>\n",
       "    <tr>\n",
       "      <th>1</th>\n",
       "      <td>pos</td>\n",
       "      <td>The best soundtrack ever to anything.: I'm rea...</td>\n",
       "      <td>0.8957</td>\n",
       "      <td>0.145</td>\n",
       "      <td>0.018</td>\n",
       "    </tr>\n",
       "    <tr>\n",
       "      <th>2</th>\n",
       "      <td>pos</td>\n",
       "      <td>Amazing!: This soundtrack is my favorite music...</td>\n",
       "      <td>0.9858</td>\n",
       "      <td>0.268</td>\n",
       "      <td>0.040</td>\n",
       "    </tr>\n",
       "    <tr>\n",
       "      <th>3</th>\n",
       "      <td>pos</td>\n",
       "      <td>Excellent Soundtrack: I truly like this soundt...</td>\n",
       "      <td>0.9814</td>\n",
       "      <td>0.295</td>\n",
       "      <td>0.090</td>\n",
       "    </tr>\n",
       "    <tr>\n",
       "      <th>4</th>\n",
       "      <td>pos</td>\n",
       "      <td>Remember, Pull Your Jaw Off The Floor After He...</td>\n",
       "      <td>0.9781</td>\n",
       "      <td>0.254</td>\n",
       "      <td>0.000</td>\n",
       "    </tr>\n",
       "  </tbody>\n",
       "</table>\n",
       "</div>"
      ],
      "text/plain": [
       "  label                                             review  Comp-Score  \\\n",
       "0   pos  Stuning even for the non-gamer: This sound tra...      0.9454   \n",
       "1   pos  The best soundtrack ever to anything.: I'm rea...      0.8957   \n",
       "2   pos  Amazing!: This soundtrack is my favorite music...      0.9858   \n",
       "3   pos  Excellent Soundtrack: I truly like this soundt...      0.9814   \n",
       "4   pos  Remember, Pull Your Jaw Off The Floor After He...      0.9781   \n",
       "\n",
       "   Pos-Score  Neg-Score  \n",
       "0      0.243      0.088  \n",
       "1      0.145      0.018  \n",
       "2      0.268      0.040  \n",
       "3      0.295      0.090  \n",
       "4      0.254      0.000  "
      ]
     },
     "execution_count": 24,
     "metadata": {},
     "output_type": "execute_result"
    }
   ],
   "source": [
    "review.head()"
   ]
  },
  {
   "cell_type": "code",
   "execution_count": 25,
   "id": "99965cd1",
   "metadata": {},
   "outputs": [
    {
     "data": {
      "text/plain": [
       "0.33520672"
      ]
     },
     "execution_count": 25,
     "metadata": {},
     "output_type": "execute_result"
    }
   ],
   "source": [
    "review[\"Comp-Score\"].mean()  # majority of comments is positive"
   ]
  },
  {
   "cell_type": "code",
   "execution_count": 26,
   "id": "6289295a",
   "metadata": {},
   "outputs": [
    {
     "data": {
      "text/plain": [
       "0.6696"
      ]
     },
     "execution_count": 26,
     "metadata": {},
     "output_type": "execute_result"
    }
   ],
   "source": [
    "review[\"Comp-Score\"].median() #  Most of the comments is positive"
   ]
  },
  {
   "cell_type": "raw",
   "id": "d316254a",
   "metadata": {},
   "source": [
    "For the Amazon Reviews Dataset I can say that majority of the reviews are positve "
   ]
  },
  {
   "cell_type": "code",
   "execution_count": null,
   "id": "502cedc7",
   "metadata": {},
   "outputs": [],
   "source": []
  }
 ],
 "metadata": {
  "kernelspec": {
   "display_name": "Python 3",
   "language": "python",
   "name": "python3"
  },
  "language_info": {
   "codemirror_mode": {
    "name": "ipython",
    "version": 3
   },
   "file_extension": ".py",
   "mimetype": "text/x-python",
   "name": "python",
   "nbconvert_exporter": "python",
   "pygments_lexer": "ipython3",
   "version": "3.8.8"
  }
 },
 "nbformat": 4,
 "nbformat_minor": 5
}
